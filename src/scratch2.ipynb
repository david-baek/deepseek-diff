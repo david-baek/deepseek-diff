{
 "cells": [
  {
   "cell_type": "code",
   "execution_count": 2,
   "metadata": {},
   "outputs": [
    {
     "name": "stderr",
     "output_type": "stream",
     "text": [
      "/tmp/ipykernel_52925/1380579417.py:32: FutureWarning: You are using `torch.load` with `weights_only=False` (the current default value), which uses the default pickle module implicitly. It is possible to construct malicious pickle data which will execute arbitrary code during unpickling (See https://github.com/pytorch/pytorch/blob/main/SECURITY.md#untrusted-models for more details). In a future release, the default value for `weights_only` will be flipped to `True`. This limits the functions that could be executed during unpickling. Arbitrary objects will no longer be allowed to be loaded via this mode unless they are explicitly allowlisted by the user via `torch.serialization.add_safe_globals`. We recommend you start setting `weights_only=True` for any use case where you don't have full control of the loaded file. Please open an issue on GitHub for any issues related to this experimental feature.\n",
      "  weights = torch.load(weight_path)\n"
     ]
    }
   ],
   "source": [
    "# %%\n",
    "\n",
    "import torch\n",
    "import einops\n",
    "import sys\n",
    "\n",
    "name_to_model_map = {\n",
    "    \"qwen-1.5b\": [\"Qwen/Qwen2.5-Math-1.5B\", \"deepseek-ai/DeepSeek-R1-Distill-Qwen-1.5B\"],\n",
    "    \"qwen-7b\": [\"Qwen/Qwen2.5-Math-7B\", \"deepseek-ai/DeepSeek-R1-Distill-Qwen-7B\"],\n",
    "    \"qwen-14b\": [\"Qwen/Qwen2.5-14B\", \"deepseek-ai/DeepSeek-R1-Distill-Qwen-14B\"],\n",
    "}\n",
    "\n",
    "target_name = \"wait\"\n",
    "random_ablate = False\n",
    "amplify = False\n",
    "\n",
    "target_token_map = {\n",
    "    \"wait\" : [\" wait\", \"Wait\"],\n",
    "    \"deductive\": [\"Therefore\", \"Thus\"],\n",
    "    \"alternative\": [\"Alternatively\"],\n",
    "    \"contrastive\": [\"However\", \"But\"]\n",
    "}\n",
    "\n",
    "target_token_count = {\n",
    "    \"wait\": 3605,\n",
    "    \"deductive\": 1275,\n",
    "    \"alternative\": 1507,\n",
    "    \"contrastive\": 2357,\n",
    "}\n",
    "\n",
    "weight_path = \"../checkpoints/version_0/qwen-1.5b_6.pt\"\n",
    "weights = torch.load(weight_path)\n",
    "\n",
    "base_dec = weights[\"W_dec\"][:, 0, :]\n",
    "reasoning_dec = weights[\"W_dec\"][:, 1, :]\n",
    "base_norms = torch.norm(base_dec, p=1, dim=1)\n",
    "reasoning_norms = torch.norm(reasoning_dec, p=1, dim=1)\n",
    "\n",
    "relative_norms = reasoning_norms / base_norms\n",
    "normalized_relative_norms = relative_norms / (1 + relative_norms)"
   ]
  },
  {
   "cell_type": "code",
   "execution_count": 34,
   "metadata": {},
   "outputs": [
    {
     "name": "stdout",
     "output_type": "stream",
     "text": [
      "Loading reasoning tokens from disk\n"
     ]
    },
    {
     "name": "stderr",
     "output_type": "stream",
     "text": [
      "/weka/scratch/weka/tegmark/dbaek/deepseek-diff/src/../crosscoder_diff/utils.py:244: FutureWarning:\n",
      "\n",
      "You are using `torch.load` with `weights_only=False` (the current default value), which uses the default pickle module implicitly. It is possible to construct malicious pickle data which will execute arbitrary code during unpickling (See https://github.com/pytorch/pytorch/blob/main/SECURITY.md#untrusted-models for more details). In a future release, the default value for `weights_only` will be flipped to `True`. This limits the functions that could be executed during unpickling. Arbitrary objects will no longer be allowed to be loaded via this mode unless they are explicitly allowlisted by the user via `torch.serialization.add_safe_globals`. We recommend you start setting `weights_only=True` for any use case where you don't have full control of the loaded file. Please open an issue on GitHub for any issues related to this experimental feature.\n",
      "\n",
      "WARNING:root:You are not using LayerNorm, so the writing weights can't be centered! Skipping\n"
     ]
    },
    {
     "name": "stdout",
     "output_type": "stream",
     "text": [
      "Loaded pretrained model Qwen/Qwen2.5-Math-1.5B into HookedTransformer\n"
     ]
    },
    {
     "name": "stderr",
     "output_type": "stream",
     "text": [
      "WARNING:root:You are not using LayerNorm, so the writing weights can't be centered! Skipping\n"
     ]
    },
    {
     "name": "stdout",
     "output_type": "stream",
     "text": [
      "Loaded pretrained model deepseek-ai/DeepSeek-R1-Distill-Qwen-1.5B into HookedTransformer\n"
     ]
    }
   ],
   "source": [
    "import sys\n",
    "sys.path.append(\"../\")\n",
    "\n",
    "from crosscoder_diff.utils import load_open_reasoning_tokens\n",
    "all_tokens = load_open_reasoning_tokens()\n",
    "\n",
    "\n",
    "# %%\n",
    "from transformer_lens import HookedTransformer, ActivationCache\n",
    "\n",
    "import os\n",
    "os.environ['HF_HOME'] = '/om2/user/dbaek/.cache/'\n",
    "\n",
    "device = \"cuda\" if torch.cuda.is_available() else \"cpu\"\n",
    "\n",
    "save_name = \"qwen-1.5b\"\n",
    "\n",
    "name_to_model_map = {\n",
    "    \"qwen-1.5b\": [\"Qwen/Qwen2.5-Math-1.5B\", \"deepseek-ai/DeepSeek-R1-Distill-Qwen-1.5B\"],\n",
    "    \"qwen-7b\": [\"Qwen/Qwen2.5-Math-7B\", \"deepseek-ai/DeepSeek-R1-Distill-Qwen-7B\"],\n",
    "    \"qwen-14b\": [\"Qwen/Qwen2.5-14B\", \"deepseek-ai/DeepSeek-R1-Distill-Qwen-14B\"],\n",
    "}\n",
    "\n",
    "\n",
    "from transformers import AutoTokenizer\n",
    "tokenizer = AutoTokenizer.from_pretrained(name_to_model_map[save_name][0])\n",
    "\n",
    "\n",
    "base_model = HookedTransformer.from_pretrained(\n",
    "    name_to_model_map[save_name][0],\n",
    "    device=device, \n",
    ")\n",
    "\n",
    "chat_model = HookedTransformer.from_pretrained(\n",
    "    name_to_model_map[save_name][1],\n",
    "    device=device,\n",
    ")\n",
    "hook_point = f\"hook_embed\""
   ]
  },
  {
   "cell_type": "code",
   "execution_count": 13,
   "metadata": {},
   "outputs": [
    {
     "name": "stdout",
     "output_type": "stream",
     "text": [
      "['A', 'B', 'C', 'D', 'E', 'F', 'G', 'H', 'I', 'J', 'K', 'L', 'M', 'N', 'O', 'P', 'Q', 'R', 'S', 'T', 'U', 'V', 'W', 'X', 'Y', 'Z']\n"
     ]
    }
   ],
   "source": [
    "prompt_list = [chr(ord('A') + i) for i in range(ord('Z') - ord('A') + 1)]\n",
    "print(prompt_list)\n",
    "prompt_list = [str(i) for i in range(1, 10)]"
   ]
  },
  {
   "cell_type": "code",
   "execution_count": 16,
   "metadata": {},
   "outputs": [
    {
     "name": "stdout",
     "output_type": "stream",
     "text": [
      "[0.2883813  0.20653793]\n",
      "[0.23699059 0.2033628 ]\n"
     ]
    },
    {
     "data": {
      "image/png": "[encoded data removed]",
      "text/plain": [
       "<Figure size 640x480 with 1 Axes>"
      ]
     },
     "metadata": {},
     "output_type": "display_data"
    },
    {
     "data": {
      "image/png": "[encoded data removed]",
      "text/plain": [
       "<Figure size 640x480 with 1 Axes>"
      ]
     },
     "metadata": {},
     "output_type": "display_data"
    }
   ],
   "source": [
    "with torch.no_grad():\n",
    "    _, cache_A = base_model.run_with_cache(prompt_list, names_filter=hook_point)\n",
    "    _, cache_B = chat_model.run_with_cache(prompt_list, names_filter=hook_point)\n",
    "\n",
    "    act_A = cache_A[hook_point][:, 0, :]\n",
    "    act_B = cache_B[hook_point][:, 0, :]\n",
    "\n",
    "from sklearn.decomposition import PCA\n",
    "pca = PCA(n_components=2)\n",
    "\n",
    "act_A_pca = pca.fit_transform(act_A.cpu().numpy())\n",
    "\n",
    "import matplotlib.pyplot as plt\n",
    "plt.scatter(act_A_pca[:, 0], act_A_pca[:, 1])\n",
    "for i, txt in enumerate(prompt_list):\n",
    "    plt.annotate(txt, (act_A_pca[i, 0], act_A_pca[i, 1]))\n",
    "\n",
    "print(pca.explained_variance_ratio_)\n",
    "\n",
    "plt.figure()\n",
    "act_B_pca = pca.fit_transform(act_B.cpu().numpy())\n",
    "plt.scatter(act_B_pca[:, 0], act_B_pca[:, 1])\n",
    "for i, txt in enumerate(prompt_list):\n",
    "    plt.annotate(txt, (act_B_pca[i, 0], act_B_pca[i, 1]))\n",
    "\n",
    "print(pca.explained_variance_ratio_)\n"
   ]
  },
  {
   "cell_type": "code",
   "execution_count": 29,
   "metadata": {},
   "outputs": [],
   "source": [
    "tokenizer2 = AutoTokenizer.from_pretrained(name_to_model_map[save_name][1])"
   ]
  },
  {
   "cell_type": "code",
   "execution_count": 31,
   "metadata": {},
   "outputs": [
    {
     "data": {
      "text/plain": [
       "LlamaTokenizerFast(name_or_path='deepseek-ai/DeepSeek-R1-Distill-Qwen-1.5B', vocab_size=151643, model_max_length=16384, is_fast=True, padding_side='left', truncation_side='right', special_tokens={'bos_token': '<｜begin▁of▁sentence｜>', 'eos_token': '<｜end▁of▁sentence｜>', 'pad_token': '<｜end▁of▁sentence｜>'}, clean_up_tokenization_spaces=False, added_tokens_decoder={\n",
       "\t151643: AddedToken(\"<｜end▁of▁sentence｜>\", rstrip=False, lstrip=False, single_word=False, normalized=False, special=True),\n",
       "\t151644: AddedToken(\"<｜User｜>\", rstrip=False, lstrip=False, single_word=False, normalized=False, special=False),\n",
       "\t151645: AddedToken(\"<｜Assistant｜>\", rstrip=False, lstrip=False, single_word=False, normalized=False, special=False),\n",
       "\t151646: AddedToken(\"<｜begin▁of▁sentence｜>\", rstrip=False, lstrip=False, single_word=False, normalized=False, special=True),\n",
       "\t151647: AddedToken(\"<|EOT|>\", rstrip=False, lstrip=False, single_word=False, normalized=False, special=False),\n",
       "\t151648: AddedToken(\"<think>\", rstrip=False, lstrip=False, single_word=False, normalized=False, special=False),\n",
       "\t151649: AddedToken(\"</think>\", rstrip=False, lstrip=False, single_word=False, normalized=False, special=False),\n",
       "\t151650: AddedToken(\"<|quad_start|>\", rstrip=False, lstrip=False, single_word=False, normalized=False, special=True),\n",
       "\t151651: AddedToken(\"<|quad_end|>\", rstrip=False, lstrip=False, single_word=False, normalized=False, special=True),\n",
       "\t151652: AddedToken(\"<|vision_start|>\", rstrip=False, lstrip=False, single_word=False, normalized=False, special=True),\n",
       "\t151653: AddedToken(\"<|vision_end|>\", rstrip=False, lstrip=False, single_word=False, normalized=False, special=True),\n",
       "\t151654: AddedToken(\"<|vision_pad|>\", rstrip=False, lstrip=False, single_word=False, normalized=False, special=True),\n",
       "\t151655: AddedToken(\"<|image_pad|>\", rstrip=False, lstrip=False, single_word=False, normalized=False, special=True),\n",
       "\t151656: AddedToken(\"<|video_pad|>\", rstrip=False, lstrip=False, single_word=False, normalized=False, special=True),\n",
       "\t151657: AddedToken(\"<tool_call>\", rstrip=False, lstrip=False, single_word=False, normalized=False, special=False),\n",
       "\t151658: AddedToken(\"</tool_call>\", rstrip=False, lstrip=False, single_word=False, normalized=False, special=False),\n",
       "\t151659: AddedToken(\"<|fim_prefix|>\", rstrip=False, lstrip=False, single_word=False, normalized=False, special=False),\n",
       "\t151660: AddedToken(\"<|fim_middle|>\", rstrip=False, lstrip=False, single_word=False, normalized=False, special=False),\n",
       "\t151661: AddedToken(\"<|fim_suffix|>\", rstrip=False, lstrip=False, single_word=False, normalized=False, special=False),\n",
       "\t151662: AddedToken(\"<|fim_pad|>\", rstrip=False, lstrip=False, single_word=False, normalized=False, special=False),\n",
       "\t151663: AddedToken(\"<|repo_name|>\", rstrip=False, lstrip=False, single_word=False, normalized=False, special=False),\n",
       "\t151664: AddedToken(\"<|file_sep|>\", rstrip=False, lstrip=False, single_word=False, normalized=False, special=False),\n",
       "}\n",
       ")"
      ]
     },
     "execution_count": 31,
     "metadata": {},
     "output_type": "execute_result"
    }
   ],
   "source": [
    "tokenizer2"
   ]
  },
  {
   "cell_type": "code",
   "execution_count": 146,
   "metadata": {},
   "outputs": [
    {
     "name": "stdout",
     "output_type": "stream",
     "text": [
      "zero one\n",
      "one two\n",
      "two three\n",
      "three four\n",
      "four five\n",
      "five six\n",
      "six seven\n",
      "seven eight\n",
      "eight nine\n",
      "nine ten\n",
      "0 1\n",
      "1 2\n",
      "2 3\n",
      "3 4\n",
      "4 5\n",
      "5 6\n",
      "6 7\n",
      "7 8\n",
      "8 9\n",
      "a b\n",
      "b c\n",
      "c d\n",
      "d e\n",
      "e f\n",
      "f g\n",
      "g h\n",
      "h i\n",
      "i j\n",
      "j k\n",
      "k l\n",
      "l m\n",
      "m n\n",
      "n o\n",
      "o p\n",
      "p q\n",
      "q r\n",
      "r s\n",
      "s t\n",
      "t u\n",
      "u v\n",
      "v w\n",
      "w x\n",
      "x y\n",
      "y z\n",
      "A B\n",
      "B C\n",
      "C D\n",
      "D E\n",
      "E F\n",
      "F G\n",
      "G H\n",
      "H I\n",
      "I J\n",
      "J K\n",
      "K L\n",
      "L M\n",
      "M N\n",
      "N O\n",
      "O P\n",
      "P Q\n",
      "Q R\n",
      "R S\n",
      "S T\n",
      "T U\n",
      "U V\n",
      "V W\n",
      "W X\n",
      "X Y\n",
      "Y Z\n",
      "AA BB\n",
      "BB CC\n",
      "CC DD\n",
      "DD EE\n",
      "EE FF\n",
      "FF GG\n",
      "GG HH\n",
      "HH II\n",
      "II JJ\n",
      "JJ KK\n",
      "KK LL\n",
      "LL MM\n",
      "MM NN\n",
      "NN OO\n",
      "OO PP\n",
      "PP QQ\n",
      "QQ RR\n",
      "RR SS\n",
      "SS TT\n",
      "TT UU\n",
      "UU VV\n",
      "VV WW\n",
      "WW XX\n",
      "XX YY\n",
      "YY ZZ\n",
      "aa bb\n",
      "bb cc\n",
      "cc dd\n",
      "dd ee\n",
      "ee ff\n",
      "ff gg\n",
      "gg hh\n",
      "hh ii\n",
      "ii jj\n",
      "jj kk\n",
      "kk ll\n",
      "ll mm\n",
      "mm nn\n",
      "nn oo\n",
      "oo pp\n",
      "pp qq\n",
      "qq rr\n",
      "rr ss\n",
      "ss tt\n",
      "tt uu\n",
      "uu vv\n",
      "vv ww\n",
      "ww xx\n",
      "xx yy\n",
      "yy zz\n",
      "I II\n",
      "II III\n",
      "III IV\n",
      "IV V\n",
      "V VI\n",
      "IX X\n",
      "X XI\n",
      "i ii\n",
      "ii iii\n",
      "iii iv\n",
      "iv v\n",
      "v vi\n",
      "ix x\n",
      "x xi\n",
      "Monday Tuesday\n",
      "Tuesday Wednesday\n",
      "Wednesday Thursday\n",
      "Thursday Friday\n",
      "Friday Saturday\n",
      "Saturday Sunday\n",
      "January February\n",
      "February March\n",
      "March April\n",
      "April May\n",
      "May June\n",
      "June July\n",
      "July August\n",
      "August September\n",
      "September October\n",
      "October November\n",
      "November December\n",
      "Sunday Monday\n",
      "December January\n",
      "(304,)\n",
      "(304, 2) (304, 2)\n"
     ]
    }
   ],
   "source": [
    "filename = \"../abstractive/next_item.json\"\n",
    "hook_point = f\"blocks.{base_model.cfg.n_layers // 2}.hook_resid_pre\"\n",
    "import json\n",
    "with open(filename, \"r\") as f:\n",
    "    data = json.load(f)\n",
    "    \n",
    "filtered_data = []\n",
    "for i in range(len(data)):\n",
    "    if len(tokenizer.encode(data[i][\"input\"])) == 1 and len(tokenizer.encode(data[i][\"output\"])) == 1:\n",
    "        filtered_data.append(data[i][\"input\"])\n",
    "        filtered_data.append(data[i][\"output\"])\n",
    "        print(data[i][\"input\"], data[i][\"output\"])\n",
    "\n",
    "torch.cuda.empty_cache()\n",
    "with torch.no_grad():\n",
    "    _, cache_A = base_model.run_with_cache(filtered_data, names_filter=hook_point)\n",
    "    _, cache_B = chat_model.run_with_cache(filtered_data, names_filter=hook_point)\n",
    "\n",
    "act_A = cache_A[hook_point][:, 0, :]\n",
    "act_B = cache_B[hook_point][:, 0, :]\n",
    "\n",
    "act_A_pca = pca.fit_transform(act_A.cpu().numpy())\n",
    "act_B_pca = pca.fit_transform(act_B.cpu().numpy())\n",
    "\n",
    "avg_norm = torch.norm(torch.vstack([act_A, act_B]), p=2, dim=1).mean().item()\n",
    "\n",
    "act_A_avg_norm = np.linalg.norm(act_A_pca, axis=1).mean()\n",
    "print(np.linalg.norm(act_A_pca, axis=1).shape)\n",
    "act_B_avg_norm = np.linalg.norm(act_B_pca, axis=1).mean()\n",
    "print(act_A_pca.shape, act_B_pca.shape)\n"
   ]
  },
  {
   "cell_type": "code",
   "execution_count": 143,
   "metadata": {},
   "outputs": [],
   "source": [
    "import numpy as np\n",
    "\n",
    "orig_norm_list = []\n",
    "chat_norm_list = []\n",
    "for i in range(len(filtered_data)//2):\n",
    "    for j in range(i+1, len(filtered_data)//2):\n",
    "        norm1 = np.linalg.norm(act_A_pca[2*i] - act_A_pca[2*i+1] - act_A_pca[2*j] + act_A_pca[2*j+1], ord=2)\n",
    "        norm2 = np.linalg.norm(act_B_pca[2*i] - act_B_pca[2*i+1] - act_B_pca[2*j] + act_B_pca[2*j+1], ord=2)\n",
    "        \n",
    "        orig_norm_list.append(norm1 / act_A_avg_norm)\n",
    "        chat_norm_list.append(norm2 / act_B_avg_norm)"
   ]
  },
  {
   "cell_type": "code",
   "execution_count": 144,
   "metadata": {},
   "outputs": [
    {
     "data": {
      "image/png": "[encoded data removed]",
      "text/plain": [
       "<Figure size 640x480 with 1 Axes>"
      ]
     },
     "metadata": {},
     "output_type": "display_data"
    }
   ],
   "source": [
    "# Sort the data\n",
    "sorted_data = np.sort(orig_norm_list)\n",
    "sorted_chat_data = np.sort(chat_norm_list)\n",
    "\n",
    "# Create an array of cumulative counts.\n",
    "# Each value in sorted_data gets a count equal to its index (starting at 1)\n",
    "cumulative_counts = np.arange(1, len(sorted_data) + 1)\n",
    "\n",
    "plt.step(sorted_data, cumulative_counts, where='post', label=\"Original\")\n",
    "plt.step(sorted_chat_data, cumulative_counts, where='post', label=\"Chat\")\n",
    "plt.legend()\n",
    "plt.xscale(\"log\")"
   ]
  },
  {
   "cell_type": "code",
   "execution_count": 88,
   "metadata": {},
   "outputs": [
    {
     "data": {
      "text/plain": [
       "<matplotlib.collections.PathCollection at 0x14d55b4fe480>"
      ]
     },
     "execution_count": 88,
     "metadata": {},
     "output_type": "execute_result"
    },
    {
     "data": {
      "image/png": "[encoded data removed]",
      "text/plain": [
       "<Figure size 640x480 with 1 Axes>"
      ]
     },
     "metadata": {},
     "output_type": "display_data"
    }
   ],
   "source": [
    "plt.scatter(orig_norm_list, chat_norm_list)"
   ]
  },
  {
   "cell_type": "code",
   "execution_count": null,
   "metadata": {},
   "outputs": [],
   "source": []
  }
 ],
 "metadata": {
  "kernelspec": {
   "display_name": "Python 3",
   "language": "python",
   "name": "python3"
  },
  "language_info": {
   "codemirror_mode": {
    "name": "ipython",
    "version": 3
   },
   "file_extension": ".py",
   "mimetype": "text/x-python",
   "name": "python",
   "nbconvert_exporter": "python",
   "pygments_lexer": "ipython3",
   "version": "3.12.9"
  }
 },
 "nbformat": 4,
 "nbformat_minor": 2
}
